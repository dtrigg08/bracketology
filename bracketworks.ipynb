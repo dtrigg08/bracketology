{
 "cells": [
  {
   "cell_type": "code",
   "execution_count": 10,
   "metadata": {
    "collapsed": false
   },
   "outputs": [
    {
     "name": "stdout",
     "output_type": "stream",
     "text": [
      "Overwriting f2.template\n"
     ]
    }
   ],
   "source": [
    "%%writefile f2.template\n",
    "<!DOCTYPE html>\n",
    "<html lang=\"en\">\n",
    "  <head>\n",
    "    <meta charset=\"utf-8\">\n",
    "\n",
    "    <title>Collapsible Tree Example</title>\n",
    "\n",
    "    <style>\n",
    "\n",
    " .node circle {\n",
    "   fill: #fff;\n",
    "   stroke: steelblue;\n",
    "   stroke-width: 3px;\n",
    " }\n",
    "\n",
    " .node text { font: 12px sans-serif; }\n",
    "\n",
    " .link {\n",
    "   fill: none;\n",
    "   stroke: #ccc;\n",
    "   stroke-width: 2px;\n",
    " }\n",
    " \n",
    "    </style>\n",
    "\n",
    "  </head>\n",
    "\n",
    "  <body>\n",
    "\n",
    "<!-- load the d3.js library --> \n",
    "<script src=\"http://d3js.org/d3.v3.min.js\"></script>\n",
    " \n",
    "<script>\n",
    "var treeData = {myData};\n",
    "\n",
    "// ************** Generate the tree diagram  *****************\n",
    "var margin = {top: 20, right: 120, bottom: 20, left: 120},\n",
    " width = 1960 - margin.right - margin.left,\n",
    " height = 1500 - margin.top - margin.bottom;\n",
    " \n",
    "var zoom = d3.behavior.zoom()\n",
    "    .scaleExtent([1, 10])\n",
    "    .on(\"zoom\", zoomed);    \n",
    "    \n",
    "var i = 0;\n",
    "\n",
    "var tree = d3.layout.tree()\n",
    " .size([height, width]);\n",
    "\n",
    "var svg = d3.select(\"body\").append(\"svg\")\n",
    " .attr(\"width\", width + margin.right + margin.left)\n",
    " .attr(\"height\", height + margin.top + margin.bottom)\n",
    " .call(d3.behavior.zoom().on(\"zoom\", function () {\n",
    "    svg.attr(\"transform\", \"translate(\" + d3.event.translate + \")\" + \" scale(\" + d3.event.scale + \")\")\n",
    "  }))\n",
    " .append(\"g\")\n",
    " .attr(\"transform\", \"translate(\" + margin.left + \",\" + margin.top + \")\");\n",
    "\n",
    "\n",
    "root = treeData[0];\n",
    "  \n",
    "update(root);\n",
    "\n",
    "function zoomed() {\n",
    "  container.attr(\"transform\", \"translate(\" + d3.event.translate + \")scale(\" + d3.event.scale + \")\");\n",
    "}\n",
    "   \n",
    "function update(source) {\n",
    "\n",
    "  // Compute the new tree layout.\n",
    "  var nodes = tree.nodes(root).reverse(),\n",
    "   links = tree.links(nodes);\n",
    "\n",
    "  // Normalize for fixed-depth.\n",
    "  nodes.forEach(function(d) { d.y = d.depth * 180; });\n",
    "\n",
    "  // Declare the nodesâ€¦\n",
    "  var node = svg.selectAll(\"g.node\")\n",
    "   .data(nodes, function(d) { return d.id || (d.id = ++i); });\n",
    "\n",
    "  // Enter the nodes.\n",
    "  var nodeEnter = node.enter().append(\"g\")\n",
    "   .attr(\"class\", \"node\")\n",
    "   .attr(\"transform\", function(d) { \n",
    "    return \"translate(\" + d.y + \",\" + d.x + \")\"; });\n",
    "\n",
    "  nodeEnter.append(\"circle\")\n",
    "      .attr(\"r\", 4.5)\n",
    "      .style(\"fill\", function(d) { return d._children ? \"lightsteelblue\" : \"#fff\"; });\n",
    "\n",
    "\n",
    "  nodeEnter.append(\"text\")\n",
    "   .attr(\"dy\", -15)\n",
    "   .attr(\"text-anchor\", \"middle\")\n",
    "   .text(function(d) { return d.name; })\n",
    "   .style(\"fill-opacity\", 1);\n",
    "\n",
    "  // Declare the linksâ€¦\n",
    "  var link = svg.selectAll(\"path.link\")\n",
    "   .data(links, function(d) { return d.target.id; });\n",
    "\n",
    "  // Enter the links.\n",
    "  link.enter().insert(\"path\", \"g\")\n",
    "   .attr(\"class\", \"link\")\n",
    "   .attr(\"d\", elbow);\n",
    "\n",
    "function elbow(d, i) {\n",
    "  return \"M\" + d.source.y + \",\" + d.source.x\n",
    "\t  + \"H\" + ((d.source.y+d.target.y) / 2)\n",
    "      + \"V\" + d.target.x + \"H\" + d.target.y ;\n",
    "}   \n",
    "   \n",
    "   \n",
    "}\n",
    "\n",
    "</script>\n",
    " \n",
    "  </body>\n",
    "</html>"
   ]
  },
  {
   "cell_type": "code",
   "execution_count": 11,
   "metadata": {
    "collapsed": false
   },
   "outputs": [
    {
     "name": "stdout",
     "output_type": "stream",
     "text": [
      "(7,)\n"
     ]
    }
   ],
   "source": [
    "North = ['Duke',\"UNF\",'San Diego St.','St. Johns','Utah','SF Austin','Georgetown','E. Wash.','SMU','UCLA',\n",
    "         'Iowa St.','UAB','Iowa','Davidson','Gonzaga','N. Dak. St.']\n",
    "South = ['Kentucky','New Hampshire','Cincinnati','Purdue','W. Virginia','Buffalo','Maryland','Valparaiso','Butler',\n",
    "         'Texas','Notre Dame','Northeastern','Wichita St.','Indiana','Kansas','N. Mex. St.']\n",
    "East = ['Villanova','Lafayette','NC State','LSU','N. Iowa','Wyoming','Louisville','UC Irvine','Providence','Boise St.',\n",
    "        'Oklahoma','Albany','Michigan St.',\"Georgia\",'Virginia','Belmont']\n",
    "West = ['Wisconsin','Coast. Car.','Oregon',\"Oklahoma St.\",'Arkansas','Wofford','N. Carolina','Harvard','Xavier','BYU',\n",
    "        'Baylor','Georgia St.','VCU','Ohio St.','Arizona','Texas So.']\n",
    "\n",
    "bracket2015 = np.append([],North)\n",
    "bracket2015 = np.append(bracket2015,South)\n",
    "bracket2015 = np.append(bracket2015,East)\n",
    "bracket2015 = np.append(bracket2015,West)\n",
    "bracket2015 = [bracket2015, np.append(East,South)]\n",
    "bracket2015.append(East)\n",
    "bracket2015.append(East[0:8])\n",
    "#bracket2015 = []\n",
    "bracket2015.append(East[0:4])\n",
    "bracket2015.append(East[0:2])\n",
    "bracket2015.append([East[0]])\n",
    "print(np.shape(bracket2015)) \n",
    "print(bracket2015[6][0])"
   ]
  },
  {
   "cell_type": "code",
   "execution_count": 13,
   "metadata": {
    "collapsed": false
   },
   "outputs": [],
   "source": [
    "import numpy as np\n",
    "\n",
    "def treeMaker(size): \n",
    "    \n",
    "    levels = np.log(size)/np.log(2)\n",
    "    if np.log(size)%np.log(2) > 0:\n",
    "        size = 2 ** int(levels)\n",
    "    bracket = []     \n",
    "    \n",
    "#    bracket = [{\"name\":  \"0\" , \"parent\" : \"0\" , \"children\" : \"\"}]\n",
    "#    for level in range(int(levels)):\n",
    "#        bracket[0]['children'] = [{\"name\": level , \"parent\" : level , \"children\" : bracket},{\"name\": level ,\n",
    "#                                    \"parent\" : level , \"children\" : bracket}]\n",
    "    bracket = [{\"name\": team+1 , \"parent\" : \"\" , \"children\" : \"\"} for team in np.arange(size)]\n",
    "#        bracket.append({\"name\": level , \"parent\" : level , \"children\" : bracket})\n",
    "    bracket = level(bracket)    \n",
    "        \n",
    "    return bracket\n",
    "\n",
    "def level(bracket):\n",
    "    newbracket = []\n",
    "    for loop in np.arange(0, np.size(bracket),2):\n",
    "        newbracket.append( {\"name\": \"winner\" , \"parent\" : \"\" , \"children\" : [bracket[loop],bracket[loop+1]]})\n",
    "    if np.size(newbracket)>1:\n",
    "        newbracket = level(newbracket)\n",
    "    return newbracket\n",
    "\n",
    "def namedTree(bracket):\n",
    "    newbracket = []\n",
    "    for loop1 in bracket:\n",
    "        level = []\n",
    "        for loop2 in loop1:\n",
    "            level.append( {\"name\": loop2 , \"parent\" : \"\" , \"children\" :\"\"})\n",
    "        newbracket.append(level)\n",
    "    return newbracket\n",
    "\n",
    "def combineData(arr):\n",
    "    for loop1 in np.arange(1, np.size(arr)):\n",
    "        for loop2 in np.arange(0, np.size(arr[loop1])):\n",
    "            arr[loop1][loop2]['children'] = [arr[loop1-1][2*loop2], arr[loop1-1][2*loop2+1]]\n",
    "            #print(arr[loop1][loop2])\n",
    "    return arr[-1]\n",
    "\n",
    "    "
   ]
  },
  {
   "cell_type": "code",
   "execution_count": 19,
   "metadata": {
    "collapsed": false
   },
   "outputs": [],
   "source": [
    "myTree = namedTree(bracket2015)\n",
    "bracketology = combineData(myTree)"
   ]
  },
  {
   "cell_type": "code",
   "execution_count": 18,
   "metadata": {
    "collapsed": false
   },
   "outputs": [],
   "source": [
    "am = treeMaker(64)  "
   ]
  },
  {
   "cell_type": "code",
   "execution_count": 16,
   "metadata": {
    "collapsed": false
   },
   "outputs": [],
   "source": [
    "from IPython.display import IFrame\n",
    "import re\n",
    "\n",
    "def replace_all(txt,d):\n",
    "    rep = dict((re.escape('{'+k+'}'), str(v)) for k, v in d.items())\n",
    "    pattern = re.compile(\"|\".join(rep.keys()))\n",
    "    return pattern.sub(lambda m: rep[re.escape(m.group(0))], txt)    \n",
    "\n",
    "\n",
    "count=0\n",
    "def serve_html(s,w,h):\n",
    "    import os\n",
    "    global count\n",
    "    count+=1\n",
    "    fn= '__tmp'+str(os.getpid())+'_'+str(count)+'.html'\n",
    "    with open(fn,'w') as f:\n",
    "        f.write(s)\n",
    "    return IFrame('files/'+fn,w,h)\n",
    "\n",
    "def f2(w,h,data):\n",
    "    d={'myData' : data}\n",
    "    with open('f2.template','r') as f:\n",
    "        s=f.read()\n",
    "    s= replace_all(s,d)        \n",
    "    return serve_html(s,w+30,h+30)"
   ]
  },
  {
   "cell_type": "code",
   "execution_count": 17,
   "metadata": {
    "collapsed": false,
    "scrolled": true
   },
   "outputs": [
    {
     "data": {
      "text/html": [
       "\n",
       "        <iframe\n",
       "            width=\"930\"\n",
       "            height=\"530\"\n",
       "            src=\"files/__tmp9444_1.html\"\n",
       "            frameborder=\"0\"\n",
       "            allowfullscreen\n",
       "        ></iframe>\n",
       "        "
      ],
      "text/plain": [
       "<IPython.lib.display.IFrame at 0x36a44b0>"
      ]
     },
     "execution_count": 17,
     "metadata": {},
     "output_type": "execute_result"
    }
   ],
   "source": [
    "f2(900,500,bracketology)"
   ]
  },
  {
   "cell_type": "code",
   "execution_count": null,
   "metadata": {
    "collapsed": true
   },
   "outputs": [],
   "source": []
  }
 ],
 "metadata": {
  "kernelspec": {
   "display_name": "Python 2",
   "language": "python",
   "name": "python2"
  },
  "language_info": {
   "codemirror_mode": {
    "name": "ipython",
    "version": 2
   },
   "file_extension": ".py",
   "mimetype": "text/x-python",
   "name": "python",
   "nbconvert_exporter": "python",
   "pygments_lexer": "ipython2",
   "version": "2.7.6"
  }
 },
 "nbformat": 4,
 "nbformat_minor": 0
}
